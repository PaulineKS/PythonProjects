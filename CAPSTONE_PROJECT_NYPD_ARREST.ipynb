{
  "cells": [
    {
      "cell_type": "markdown",
      "metadata": {
        "id": "view-in-github",
        "colab_type": "text"
      },
      "source": [
        "<a href=\"https://colab.research.google.com/github/PaulineKS/PythonProjects/blob/main/CAPSTONE_PROJECT_NYPD_ARREST.ipynb\" target=\"_parent\"><img src=\"https://colab.research.google.com/assets/colab-badge.svg\" alt=\"Open In Colab\"/></a>"
      ]
    },
    {
      "cell_type": "code",
      "execution_count": null,
      "metadata": {
        "id": "-oSAqyiCpDEf"
      },
      "outputs": [],
      "source": [
        "import pandas as pd\n",
        "import numpy as np\n",
        "import seaborn as sns\n",
        "%matplotlib inline"
      ]
    },
    {
      "cell_type": "code",
      "execution_count": null,
      "metadata": {
        "colab": {
          "base_uri": "https://localhost:8080/",
          "height": 800
        },
        "id": "m73NCSWitaDW",
        "outputId": "3b80171d-dfb4-41d0-e8ee-e6bc2d6a3863"
      },
      "outputs": [
        {
          "output_type": "execute_result",
          "data": {
            "text/plain": [
              "     arrest_key              arrest_date  pd_cd  \\\n",
              "0     238552639  2022-01-03T00:00:00.000  205.0   \n",
              "1     238682242  2022-01-05T00:00:00.000  397.0   \n",
              "2     238723993  2022-01-06T00:00:00.000  153.0   \n",
              "3     238821533  2022-01-08T00:00:00.000    NaN   \n",
              "4     239029586  2022-01-12T00:00:00.000    NaN   \n",
              "..          ...                      ...    ...   \n",
              "995   239678172  2022-01-25T00:00:00.000  109.0   \n",
              "996   239220231  2022-01-16T00:00:00.000  101.0   \n",
              "997   241650053  2022-03-06T00:00:00.000  258.0   \n",
              "998   240305373  2022-02-08T00:00:00.000  101.0   \n",
              "999   239457828  2022-01-19T00:00:00.000  244.0   \n",
              "\n",
              "                            pd_desc  ky_cd                       ofns_desc  \\\n",
              "0              TRESPASS 2, CRIMINAL  352.0               CRIMINAL TRESPASS   \n",
              "1    ROBBERY,OPEN AREA UNCLASSIFIED  105.0                         ROBBERY   \n",
              "2                            RAPE 3  104.0                            RAPE   \n",
              "3                            (null)    NaN                          (null)   \n",
              "4                            (null)    NaN                          (null)   \n",
              "..                              ...    ...                             ...   \n",
              "995        ASSAULT 2,1,UNCLASSIFIED  106.0                  FELONY ASSAULT   \n",
              "996                       ASSAULT 3  344.0    ASSAULT 3 & RELATED OFFENSES   \n",
              "997  CRIMINAL MISCHIEF 4TH, GRAFFIT  351.0  CRIMINAL MISCHIEF & RELATED OF   \n",
              "998                       ASSAULT 3  344.0    ASSAULT 3 & RELATED OFFENSES   \n",
              "999   BURGLARY,UNCLASSIFIED,UNKNOWN  107.0                        BURGLARY   \n",
              "\n",
              "       law_code law_cat_cd arrest_boro  arrest_precinct  jurisdiction_code  \\\n",
              "0    PL 1401501          M           K               75                  0   \n",
              "1    PL 160050H          F           K               75                  0   \n",
              "2    PL 1302503          F           K               77                  0   \n",
              "3    CPL5700600          9           Q              113                  3   \n",
              "4    CPL5700600          9           Q              113                  3   \n",
              "..          ...        ...         ...              ...                ...   \n",
              "995  PL 1200501          F           K               90                  2   \n",
              "996  PL 1200001          M           K               68                  0   \n",
              "997  PL 1456002          M           K               66                  0   \n",
              "998  PL 1200001          M           K               71                  0   \n",
              "999  PL 1402000          F           M               26                  0   \n",
              "\n",
              "    age_group perp_sex       perp_race  x_coord_cd  y_coord_cd   latitude  \\\n",
              "0       18-24        M           BLACK     1015028      185895  40.676863   \n",
              "1       25-44        M           BLACK     1017119      183909  40.671404   \n",
              "2       25-44        M           WHITE     1003509      185018  40.674496   \n",
              "3       45-64        M  WHITE HISPANIC     1046367      186986  40.679701   \n",
              "4       25-44        M  WHITE HISPANIC     1046367      186986  40.679701   \n",
              "..        ...      ...             ...         ...         ...        ...   \n",
              "995     25-44        F           BLACK      998002      196692  40.706548   \n",
              "996     45-64        M           WHITE      978700      170198  40.633831   \n",
              "997     25-44        M  WHITE HISPANIC      990817      167525  40.626492   \n",
              "998     25-44        M  WHITE HISPANIC      998742      181235  40.664121   \n",
              "999     18-24        M  WHITE HISPANIC      995265      233097  40.806468   \n",
              "\n",
              "     longitude                             geocoded_column  \n",
              "0   -73.889037                POINT (-73.889037 40.676863)  \n",
              "1   -73.881509                POINT (-73.881509 40.671404)  \n",
              "2   -73.930571  POINT (-73.9305713255961 40.6744956865259)  \n",
              "3   -73.776047            POINT (-73.77604735 40.67970059)  \n",
              "4   -73.776047            POINT (-73.77604735 40.67970059)  \n",
              "..         ...                                         ...  \n",
              "995 -73.950401  POINT (-73.9504006335643 40.7065483947783)  \n",
              "996 -74.019993                POINT (-74.019993 40.633831)  \n",
              "997 -73.976342                POINT (-73.976342 40.626492)  \n",
              "998 -73.947765   POINT (-73.9477648403751 40.664121282631)  \n",
              "999 -73.960209                POINT (-73.960209 40.806468)  \n",
              "\n",
              "[1000 rows x 19 columns]"
            ],
            "text/html": [
              "\n",
              "  <div id=\"df-80dcb4d0-a25e-479f-b8a3-7a4f78eb7ccf\">\n",
              "    <div class=\"colab-df-container\">\n",
              "      <div>\n",
              "<style scoped>\n",
              "    .dataframe tbody tr th:only-of-type {\n",
              "        vertical-align: middle;\n",
              "    }\n",
              "\n",
              "    .dataframe tbody tr th {\n",
              "        vertical-align: top;\n",
              "    }\n",
              "\n",
              "    .dataframe thead th {\n",
              "        text-align: right;\n",
              "    }\n",
              "</style>\n",
              "<table border=\"1\" class=\"dataframe\">\n",
              "  <thead>\n",
              "    <tr style=\"text-align: right;\">\n",
              "      <th></th>\n",
              "      <th>arrest_key</th>\n",
              "      <th>arrest_date</th>\n",
              "      <th>pd_cd</th>\n",
              "      <th>pd_desc</th>\n",
              "      <th>ky_cd</th>\n",
              "      <th>ofns_desc</th>\n",
              "      <th>law_code</th>\n",
              "      <th>law_cat_cd</th>\n",
              "      <th>arrest_boro</th>\n",
              "      <th>arrest_precinct</th>\n",
              "      <th>jurisdiction_code</th>\n",
              "      <th>age_group</th>\n",
              "      <th>perp_sex</th>\n",
              "      <th>perp_race</th>\n",
              "      <th>x_coord_cd</th>\n",
              "      <th>y_coord_cd</th>\n",
              "      <th>latitude</th>\n",
              "      <th>longitude</th>\n",
              "      <th>geocoded_column</th>\n",
              "    </tr>\n",
              "  </thead>\n",
              "  <tbody>\n",
              "    <tr>\n",
              "      <th>0</th>\n",
              "      <td>238552639</td>\n",
              "      <td>2022-01-03T00:00:00.000</td>\n",
              "      <td>205.0</td>\n",
              "      <td>TRESPASS 2, CRIMINAL</td>\n",
              "      <td>352.0</td>\n",
              "      <td>CRIMINAL TRESPASS</td>\n",
              "      <td>PL 1401501</td>\n",
              "      <td>M</td>\n",
              "      <td>K</td>\n",
              "      <td>75</td>\n",
              "      <td>0</td>\n",
              "      <td>18-24</td>\n",
              "      <td>M</td>\n",
              "      <td>BLACK</td>\n",
              "      <td>1015028</td>\n",
              "      <td>185895</td>\n",
              "      <td>40.676863</td>\n",
              "      <td>-73.889037</td>\n",
              "      <td>POINT (-73.889037 40.676863)</td>\n",
              "    </tr>\n",
              "    <tr>\n",
              "      <th>1</th>\n",
              "      <td>238682242</td>\n",
              "      <td>2022-01-05T00:00:00.000</td>\n",
              "      <td>397.0</td>\n",
              "      <td>ROBBERY,OPEN AREA UNCLASSIFIED</td>\n",
              "      <td>105.0</td>\n",
              "      <td>ROBBERY</td>\n",
              "      <td>PL 160050H</td>\n",
              "      <td>F</td>\n",
              "      <td>K</td>\n",
              "      <td>75</td>\n",
              "      <td>0</td>\n",
              "      <td>25-44</td>\n",
              "      <td>M</td>\n",
              "      <td>BLACK</td>\n",
              "      <td>1017119</td>\n",
              "      <td>183909</td>\n",
              "      <td>40.671404</td>\n",
              "      <td>-73.881509</td>\n",
              "      <td>POINT (-73.881509 40.671404)</td>\n",
              "    </tr>\n",
              "    <tr>\n",
              "      <th>2</th>\n",
              "      <td>238723993</td>\n",
              "      <td>2022-01-06T00:00:00.000</td>\n",
              "      <td>153.0</td>\n",
              "      <td>RAPE 3</td>\n",
              "      <td>104.0</td>\n",
              "      <td>RAPE</td>\n",
              "      <td>PL 1302503</td>\n",
              "      <td>F</td>\n",
              "      <td>K</td>\n",
              "      <td>77</td>\n",
              "      <td>0</td>\n",
              "      <td>25-44</td>\n",
              "      <td>M</td>\n",
              "      <td>WHITE</td>\n",
              "      <td>1003509</td>\n",
              "      <td>185018</td>\n",
              "      <td>40.674496</td>\n",
              "      <td>-73.930571</td>\n",
              "      <td>POINT (-73.9305713255961 40.6744956865259)</td>\n",
              "    </tr>\n",
              "    <tr>\n",
              "      <th>3</th>\n",
              "      <td>238821533</td>\n",
              "      <td>2022-01-08T00:00:00.000</td>\n",
              "      <td>NaN</td>\n",
              "      <td>(null)</td>\n",
              "      <td>NaN</td>\n",
              "      <td>(null)</td>\n",
              "      <td>CPL5700600</td>\n",
              "      <td>9</td>\n",
              "      <td>Q</td>\n",
              "      <td>113</td>\n",
              "      <td>3</td>\n",
              "      <td>45-64</td>\n",
              "      <td>M</td>\n",
              "      <td>WHITE HISPANIC</td>\n",
              "      <td>1046367</td>\n",
              "      <td>186986</td>\n",
              "      <td>40.679701</td>\n",
              "      <td>-73.776047</td>\n",
              "      <td>POINT (-73.77604735 40.67970059)</td>\n",
              "    </tr>\n",
              "    <tr>\n",
              "      <th>4</th>\n",
              "      <td>239029586</td>\n",
              "      <td>2022-01-12T00:00:00.000</td>\n",
              "      <td>NaN</td>\n",
              "      <td>(null)</td>\n",
              "      <td>NaN</td>\n",
              "      <td>(null)</td>\n",
              "      <td>CPL5700600</td>\n",
              "      <td>9</td>\n",
              "      <td>Q</td>\n",
              "      <td>113</td>\n",
              "      <td>3</td>\n",
              "      <td>25-44</td>\n",
              "      <td>M</td>\n",
              "      <td>WHITE HISPANIC</td>\n",
              "      <td>1046367</td>\n",
              "      <td>186986</td>\n",
              "      <td>40.679701</td>\n",
              "      <td>-73.776047</td>\n",
              "      <td>POINT (-73.77604735 40.67970059)</td>\n",
              "    </tr>\n",
              "    <tr>\n",
              "      <th>...</th>\n",
              "      <td>...</td>\n",
              "      <td>...</td>\n",
              "      <td>...</td>\n",
              "      <td>...</td>\n",
              "      <td>...</td>\n",
              "      <td>...</td>\n",
              "      <td>...</td>\n",
              "      <td>...</td>\n",
              "      <td>...</td>\n",
              "      <td>...</td>\n",
              "      <td>...</td>\n",
              "      <td>...</td>\n",
              "      <td>...</td>\n",
              "      <td>...</td>\n",
              "      <td>...</td>\n",
              "      <td>...</td>\n",
              "      <td>...</td>\n",
              "      <td>...</td>\n",
              "      <td>...</td>\n",
              "    </tr>\n",
              "    <tr>\n",
              "      <th>995</th>\n",
              "      <td>239678172</td>\n",
              "      <td>2022-01-25T00:00:00.000</td>\n",
              "      <td>109.0</td>\n",
              "      <td>ASSAULT 2,1,UNCLASSIFIED</td>\n",
              "      <td>106.0</td>\n",
              "      <td>FELONY ASSAULT</td>\n",
              "      <td>PL 1200501</td>\n",
              "      <td>F</td>\n",
              "      <td>K</td>\n",
              "      <td>90</td>\n",
              "      <td>2</td>\n",
              "      <td>25-44</td>\n",
              "      <td>F</td>\n",
              "      <td>BLACK</td>\n",
              "      <td>998002</td>\n",
              "      <td>196692</td>\n",
              "      <td>40.706548</td>\n",
              "      <td>-73.950401</td>\n",
              "      <td>POINT (-73.9504006335643 40.7065483947783)</td>\n",
              "    </tr>\n",
              "    <tr>\n",
              "      <th>996</th>\n",
              "      <td>239220231</td>\n",
              "      <td>2022-01-16T00:00:00.000</td>\n",
              "      <td>101.0</td>\n",
              "      <td>ASSAULT 3</td>\n",
              "      <td>344.0</td>\n",
              "      <td>ASSAULT 3 &amp; RELATED OFFENSES</td>\n",
              "      <td>PL 1200001</td>\n",
              "      <td>M</td>\n",
              "      <td>K</td>\n",
              "      <td>68</td>\n",
              "      <td>0</td>\n",
              "      <td>45-64</td>\n",
              "      <td>M</td>\n",
              "      <td>WHITE</td>\n",
              "      <td>978700</td>\n",
              "      <td>170198</td>\n",
              "      <td>40.633831</td>\n",
              "      <td>-74.019993</td>\n",
              "      <td>POINT (-74.019993 40.633831)</td>\n",
              "    </tr>\n",
              "    <tr>\n",
              "      <th>997</th>\n",
              "      <td>241650053</td>\n",
              "      <td>2022-03-06T00:00:00.000</td>\n",
              "      <td>258.0</td>\n",
              "      <td>CRIMINAL MISCHIEF 4TH, GRAFFIT</td>\n",
              "      <td>351.0</td>\n",
              "      <td>CRIMINAL MISCHIEF &amp; RELATED OF</td>\n",
              "      <td>PL 1456002</td>\n",
              "      <td>M</td>\n",
              "      <td>K</td>\n",
              "      <td>66</td>\n",
              "      <td>0</td>\n",
              "      <td>25-44</td>\n",
              "      <td>M</td>\n",
              "      <td>WHITE HISPANIC</td>\n",
              "      <td>990817</td>\n",
              "      <td>167525</td>\n",
              "      <td>40.626492</td>\n",
              "      <td>-73.976342</td>\n",
              "      <td>POINT (-73.976342 40.626492)</td>\n",
              "    </tr>\n",
              "    <tr>\n",
              "      <th>998</th>\n",
              "      <td>240305373</td>\n",
              "      <td>2022-02-08T00:00:00.000</td>\n",
              "      <td>101.0</td>\n",
              "      <td>ASSAULT 3</td>\n",
              "      <td>344.0</td>\n",
              "      <td>ASSAULT 3 &amp; RELATED OFFENSES</td>\n",
              "      <td>PL 1200001</td>\n",
              "      <td>M</td>\n",
              "      <td>K</td>\n",
              "      <td>71</td>\n",
              "      <td>0</td>\n",
              "      <td>25-44</td>\n",
              "      <td>M</td>\n",
              "      <td>WHITE HISPANIC</td>\n",
              "      <td>998742</td>\n",
              "      <td>181235</td>\n",
              "      <td>40.664121</td>\n",
              "      <td>-73.947765</td>\n",
              "      <td>POINT (-73.9477648403751 40.664121282631)</td>\n",
              "    </tr>\n",
              "    <tr>\n",
              "      <th>999</th>\n",
              "      <td>239457828</td>\n",
              "      <td>2022-01-19T00:00:00.000</td>\n",
              "      <td>244.0</td>\n",
              "      <td>BURGLARY,UNCLASSIFIED,UNKNOWN</td>\n",
              "      <td>107.0</td>\n",
              "      <td>BURGLARY</td>\n",
              "      <td>PL 1402000</td>\n",
              "      <td>F</td>\n",
              "      <td>M</td>\n",
              "      <td>26</td>\n",
              "      <td>0</td>\n",
              "      <td>18-24</td>\n",
              "      <td>M</td>\n",
              "      <td>WHITE HISPANIC</td>\n",
              "      <td>995265</td>\n",
              "      <td>233097</td>\n",
              "      <td>40.806468</td>\n",
              "      <td>-73.960209</td>\n",
              "      <td>POINT (-73.960209 40.806468)</td>\n",
              "    </tr>\n",
              "  </tbody>\n",
              "</table>\n",
              "<p>1000 rows × 19 columns</p>\n",
              "</div>\n",
              "      <button class=\"colab-df-convert\" onclick=\"convertToInteractive('df-80dcb4d0-a25e-479f-b8a3-7a4f78eb7ccf')\"\n",
              "              title=\"Convert this dataframe to an interactive table.\"\n",
              "              style=\"display:none;\">\n",
              "        \n",
              "  <svg xmlns=\"http://www.w3.org/2000/svg\" height=\"24px\"viewBox=\"0 0 24 24\"\n",
              "       width=\"24px\">\n",
              "    <path d=\"M0 0h24v24H0V0z\" fill=\"none\"/>\n",
              "    <path d=\"M18.56 5.44l.94 2.06.94-2.06 2.06-.94-2.06-.94-.94-2.06-.94 2.06-2.06.94zm-11 1L8.5 8.5l.94-2.06 2.06-.94-2.06-.94L8.5 2.5l-.94 2.06-2.06.94zm10 10l.94 2.06.94-2.06 2.06-.94-2.06-.94-.94-2.06-.94 2.06-2.06.94z\"/><path d=\"M17.41 7.96l-1.37-1.37c-.4-.4-.92-.59-1.43-.59-.52 0-1.04.2-1.43.59L10.3 9.45l-7.72 7.72c-.78.78-.78 2.05 0 2.83L4 21.41c.39.39.9.59 1.41.59.51 0 1.02-.2 1.41-.59l7.78-7.78 2.81-2.81c.8-.78.8-2.07 0-2.86zM5.41 20L4 18.59l7.72-7.72 1.47 1.35L5.41 20z\"/>\n",
              "  </svg>\n",
              "      </button>\n",
              "      \n",
              "  <style>\n",
              "    .colab-df-container {\n",
              "      display:flex;\n",
              "      flex-wrap:wrap;\n",
              "      gap: 12px;\n",
              "    }\n",
              "\n",
              "    .colab-df-convert {\n",
              "      background-color: #E8F0FE;\n",
              "      border: none;\n",
              "      border-radius: 50%;\n",
              "      cursor: pointer;\n",
              "      display: none;\n",
              "      fill: #1967D2;\n",
              "      height: 32px;\n",
              "      padding: 0 0 0 0;\n",
              "      width: 32px;\n",
              "    }\n",
              "\n",
              "    .colab-df-convert:hover {\n",
              "      background-color: #E2EBFA;\n",
              "      box-shadow: 0px 1px 2px rgba(60, 64, 67, 0.3), 0px 1px 3px 1px rgba(60, 64, 67, 0.15);\n",
              "      fill: #174EA6;\n",
              "    }\n",
              "\n",
              "    [theme=dark] .colab-df-convert {\n",
              "      background-color: #3B4455;\n",
              "      fill: #D2E3FC;\n",
              "    }\n",
              "\n",
              "    [theme=dark] .colab-df-convert:hover {\n",
              "      background-color: #434B5C;\n",
              "      box-shadow: 0px 1px 3px 1px rgba(0, 0, 0, 0.15);\n",
              "      filter: drop-shadow(0px 1px 2px rgba(0, 0, 0, 0.3));\n",
              "      fill: #FFFFFF;\n",
              "    }\n",
              "  </style>\n",
              "\n",
              "      <script>\n",
              "        const buttonEl =\n",
              "          document.querySelector('#df-80dcb4d0-a25e-479f-b8a3-7a4f78eb7ccf button.colab-df-convert');\n",
              "        buttonEl.style.display =\n",
              "          google.colab.kernel.accessAllowed ? 'block' : 'none';\n",
              "\n",
              "        async function convertToInteractive(key) {\n",
              "          const element = document.querySelector('#df-80dcb4d0-a25e-479f-b8a3-7a4f78eb7ccf');\n",
              "          const dataTable =\n",
              "            await google.colab.kernel.invokeFunction('convertToInteractive',\n",
              "                                                     [key], {});\n",
              "          if (!dataTable) return;\n",
              "\n",
              "          const docLinkHtml = 'Like what you see? Visit the ' +\n",
              "            '<a target=\"_blank\" href=https://colab.research.google.com/notebooks/data_table.ipynb>data table notebook</a>'\n",
              "            + ' to learn more about interactive tables.';\n",
              "          element.innerHTML = '';\n",
              "          dataTable['output_type'] = 'display_data';\n",
              "          await google.colab.output.renderOutput(dataTable, element);\n",
              "          const docLink = document.createElement('div');\n",
              "          docLink.innerHTML = docLinkHtml;\n",
              "          element.appendChild(docLink);\n",
              "        }\n",
              "      </script>\n",
              "    </div>\n",
              "  </div>\n",
              "  "
            ]
          },
          "metadata": {},
          "execution_count": 3
        }
      ],
      "source": [
        "#importing data\n",
        "df = pd.read_csv('https://data.cityofnewyork.us/resource/uip8-fykc.csv')\n",
        "df"
      ]
    },
    {
      "cell_type": "code",
      "execution_count": null,
      "metadata": {
        "colab": {
          "base_uri": "https://localhost:8080/"
        },
        "id": "RNhhwa3YFhQv",
        "outputId": "bcd6d2cd-1de1-4477-9cbf-5486cbc31fd1"
      },
      "outputs": [
        {
          "output_type": "execute_result",
          "data": {
            "text/plain": [
              "Index(['arrest_key', 'arrest_date', 'pd_cd', 'pd_desc', 'ky_cd', 'ofns_desc',\n",
              "       'law_code', 'law_cat_cd', 'arrest_boro', 'arrest_precinct',\n",
              "       'jurisdiction_code', 'age_group', 'perp_sex', 'perp_race', 'x_coord_cd',\n",
              "       'y_coord_cd', 'latitude', 'longitude', 'geocoded_column'],\n",
              "      dtype='object')"
            ]
          },
          "metadata": {},
          "execution_count": 4
        }
      ],
      "source": [
        "#Column Names\n",
        "df.columns\n"
      ]
    },
    {
      "cell_type": "code",
      "execution_count": null,
      "metadata": {
        "colab": {
          "base_uri": "https://localhost:8080/"
        },
        "id": "iGztTg40JxtU",
        "outputId": "b8c20137-6aa8-489d-8ff0-36f6edf51ebe"
      },
      "outputs": [
        {
          "output_type": "execute_result",
          "data": {
            "text/plain": [
              "arrest_key             int64\n",
              "arrest_date           object\n",
              "pd_cd                float64\n",
              "pd_desc               object\n",
              "ky_cd                float64\n",
              "ofns_desc             object\n",
              "law_code              object\n",
              "law_cat_cd            object\n",
              "arrest_boro           object\n",
              "arrest_precinct        int64\n",
              "jurisdiction_code      int64\n",
              "age_group             object\n",
              "perp_sex              object\n",
              "perp_race             object\n",
              "x_coord_cd             int64\n",
              "y_coord_cd             int64\n",
              "latitude             float64\n",
              "longitude            float64\n",
              "geocoded_column       object\n",
              "dtype: object"
            ]
          },
          "metadata": {},
          "execution_count": 5
        }
      ],
      "source": [
        "#type\n",
        "df.dtypes"
      ]
    },
    {
      "cell_type": "code",
      "execution_count": null,
      "metadata": {
        "colab": {
          "base_uri": "https://localhost:8080/"
        },
        "id": "e_Ju-xe6J5Qm",
        "outputId": "316e8bf2-afd5-447a-919e-3d5ea4c70634"
      },
      "outputs": [
        {
          "output_type": "execute_result",
          "data": {
            "text/plain": [
              "True"
            ]
          },
          "metadata": {},
          "execution_count": 6
        }
      ],
      "source": [
        "# Checking if Arrest Key is unique\n",
        "df['arrest_key'].is_unique"
      ]
    },
    {
      "cell_type": "code",
      "execution_count": null,
      "metadata": {
        "colab": {
          "base_uri": "https://localhost:8080/",
          "height": 424
        },
        "id": "eJstCxJ_K4AN",
        "outputId": "18ee5fc4-97c8-4be6-8c6d-a6099d9b5e9a"
      },
      "outputs": [
        {
          "output_type": "execute_result",
          "data": {
            "text/plain": [
              "     arrest_key age_group perp_sex                         pd_desc  \\\n",
              "0     238552639     18-24        M            TRESPASS 2, CRIMINAL   \n",
              "1     238682242     25-44        M  ROBBERY,OPEN AREA UNCLASSIFIED   \n",
              "2     238723993     25-44        M                          RAPE 3   \n",
              "3     238821533     45-64        M                          (null)   \n",
              "4     239029586     25-44        M                          (null)   \n",
              "..          ...       ...      ...                             ...   \n",
              "995   239678172     25-44        F        ASSAULT 2,1,UNCLASSIFIED   \n",
              "996   239220231     45-64        M                       ASSAULT 3   \n",
              "997   241650053     25-44        M  CRIMINAL MISCHIEF 4TH, GRAFFIT   \n",
              "998   240305373     25-44        M                       ASSAULT 3   \n",
              "999   239457828     18-24        M   BURGLARY,UNCLASSIFIED,UNKNOWN   \n",
              "\n",
              "          perp_race arrest_boro  \n",
              "0             BLACK           K  \n",
              "1             BLACK           K  \n",
              "2             WHITE           K  \n",
              "3    WHITE HISPANIC           Q  \n",
              "4    WHITE HISPANIC           Q  \n",
              "..              ...         ...  \n",
              "995           BLACK           K  \n",
              "996           WHITE           K  \n",
              "997  WHITE HISPANIC           K  \n",
              "998  WHITE HISPANIC           K  \n",
              "999  WHITE HISPANIC           M  \n",
              "\n",
              "[1000 rows x 6 columns]"
            ],
            "text/html": [
              "\n",
              "  <div id=\"df-e7d5a50c-dc58-487f-86dc-fceac9a97608\">\n",
              "    <div class=\"colab-df-container\">\n",
              "      <div>\n",
              "<style scoped>\n",
              "    .dataframe tbody tr th:only-of-type {\n",
              "        vertical-align: middle;\n",
              "    }\n",
              "\n",
              "    .dataframe tbody tr th {\n",
              "        vertical-align: top;\n",
              "    }\n",
              "\n",
              "    .dataframe thead th {\n",
              "        text-align: right;\n",
              "    }\n",
              "</style>\n",
              "<table border=\"1\" class=\"dataframe\">\n",
              "  <thead>\n",
              "    <tr style=\"text-align: right;\">\n",
              "      <th></th>\n",
              "      <th>arrest_key</th>\n",
              "      <th>age_group</th>\n",
              "      <th>perp_sex</th>\n",
              "      <th>pd_desc</th>\n",
              "      <th>perp_race</th>\n",
              "      <th>arrest_boro</th>\n",
              "    </tr>\n",
              "  </thead>\n",
              "  <tbody>\n",
              "    <tr>\n",
              "      <th>0</th>\n",
              "      <td>238552639</td>\n",
              "      <td>18-24</td>\n",
              "      <td>M</td>\n",
              "      <td>TRESPASS 2, CRIMINAL</td>\n",
              "      <td>BLACK</td>\n",
              "      <td>K</td>\n",
              "    </tr>\n",
              "    <tr>\n",
              "      <th>1</th>\n",
              "      <td>238682242</td>\n",
              "      <td>25-44</td>\n",
              "      <td>M</td>\n",
              "      <td>ROBBERY,OPEN AREA UNCLASSIFIED</td>\n",
              "      <td>BLACK</td>\n",
              "      <td>K</td>\n",
              "    </tr>\n",
              "    <tr>\n",
              "      <th>2</th>\n",
              "      <td>238723993</td>\n",
              "      <td>25-44</td>\n",
              "      <td>M</td>\n",
              "      <td>RAPE 3</td>\n",
              "      <td>WHITE</td>\n",
              "      <td>K</td>\n",
              "    </tr>\n",
              "    <tr>\n",
              "      <th>3</th>\n",
              "      <td>238821533</td>\n",
              "      <td>45-64</td>\n",
              "      <td>M</td>\n",
              "      <td>(null)</td>\n",
              "      <td>WHITE HISPANIC</td>\n",
              "      <td>Q</td>\n",
              "    </tr>\n",
              "    <tr>\n",
              "      <th>4</th>\n",
              "      <td>239029586</td>\n",
              "      <td>25-44</td>\n",
              "      <td>M</td>\n",
              "      <td>(null)</td>\n",
              "      <td>WHITE HISPANIC</td>\n",
              "      <td>Q</td>\n",
              "    </tr>\n",
              "    <tr>\n",
              "      <th>...</th>\n",
              "      <td>...</td>\n",
              "      <td>...</td>\n",
              "      <td>...</td>\n",
              "      <td>...</td>\n",
              "      <td>...</td>\n",
              "      <td>...</td>\n",
              "    </tr>\n",
              "    <tr>\n",
              "      <th>995</th>\n",
              "      <td>239678172</td>\n",
              "      <td>25-44</td>\n",
              "      <td>F</td>\n",
              "      <td>ASSAULT 2,1,UNCLASSIFIED</td>\n",
              "      <td>BLACK</td>\n",
              "      <td>K</td>\n",
              "    </tr>\n",
              "    <tr>\n",
              "      <th>996</th>\n",
              "      <td>239220231</td>\n",
              "      <td>45-64</td>\n",
              "      <td>M</td>\n",
              "      <td>ASSAULT 3</td>\n",
              "      <td>WHITE</td>\n",
              "      <td>K</td>\n",
              "    </tr>\n",
              "    <tr>\n",
              "      <th>997</th>\n",
              "      <td>241650053</td>\n",
              "      <td>25-44</td>\n",
              "      <td>M</td>\n",
              "      <td>CRIMINAL MISCHIEF 4TH, GRAFFIT</td>\n",
              "      <td>WHITE HISPANIC</td>\n",
              "      <td>K</td>\n",
              "    </tr>\n",
              "    <tr>\n",
              "      <th>998</th>\n",
              "      <td>240305373</td>\n",
              "      <td>25-44</td>\n",
              "      <td>M</td>\n",
              "      <td>ASSAULT 3</td>\n",
              "      <td>WHITE HISPANIC</td>\n",
              "      <td>K</td>\n",
              "    </tr>\n",
              "    <tr>\n",
              "      <th>999</th>\n",
              "      <td>239457828</td>\n",
              "      <td>18-24</td>\n",
              "      <td>M</td>\n",
              "      <td>BURGLARY,UNCLASSIFIED,UNKNOWN</td>\n",
              "      <td>WHITE HISPANIC</td>\n",
              "      <td>M</td>\n",
              "    </tr>\n",
              "  </tbody>\n",
              "</table>\n",
              "<p>1000 rows × 6 columns</p>\n",
              "</div>\n",
              "      <button class=\"colab-df-convert\" onclick=\"convertToInteractive('df-e7d5a50c-dc58-487f-86dc-fceac9a97608')\"\n",
              "              title=\"Convert this dataframe to an interactive table.\"\n",
              "              style=\"display:none;\">\n",
              "        \n",
              "  <svg xmlns=\"http://www.w3.org/2000/svg\" height=\"24px\"viewBox=\"0 0 24 24\"\n",
              "       width=\"24px\">\n",
              "    <path d=\"M0 0h24v24H0V0z\" fill=\"none\"/>\n",
              "    <path d=\"M18.56 5.44l.94 2.06.94-2.06 2.06-.94-2.06-.94-.94-2.06-.94 2.06-2.06.94zm-11 1L8.5 8.5l.94-2.06 2.06-.94-2.06-.94L8.5 2.5l-.94 2.06-2.06.94zm10 10l.94 2.06.94-2.06 2.06-.94-2.06-.94-.94-2.06-.94 2.06-2.06.94z\"/><path d=\"M17.41 7.96l-1.37-1.37c-.4-.4-.92-.59-1.43-.59-.52 0-1.04.2-1.43.59L10.3 9.45l-7.72 7.72c-.78.78-.78 2.05 0 2.83L4 21.41c.39.39.9.59 1.41.59.51 0 1.02-.2 1.41-.59l7.78-7.78 2.81-2.81c.8-.78.8-2.07 0-2.86zM5.41 20L4 18.59l7.72-7.72 1.47 1.35L5.41 20z\"/>\n",
              "  </svg>\n",
              "      </button>\n",
              "      \n",
              "  <style>\n",
              "    .colab-df-container {\n",
              "      display:flex;\n",
              "      flex-wrap:wrap;\n",
              "      gap: 12px;\n",
              "    }\n",
              "\n",
              "    .colab-df-convert {\n",
              "      background-color: #E8F0FE;\n",
              "      border: none;\n",
              "      border-radius: 50%;\n",
              "      cursor: pointer;\n",
              "      display: none;\n",
              "      fill: #1967D2;\n",
              "      height: 32px;\n",
              "      padding: 0 0 0 0;\n",
              "      width: 32px;\n",
              "    }\n",
              "\n",
              "    .colab-df-convert:hover {\n",
              "      background-color: #E2EBFA;\n",
              "      box-shadow: 0px 1px 2px rgba(60, 64, 67, 0.3), 0px 1px 3px 1px rgba(60, 64, 67, 0.15);\n",
              "      fill: #174EA6;\n",
              "    }\n",
              "\n",
              "    [theme=dark] .colab-df-convert {\n",
              "      background-color: #3B4455;\n",
              "      fill: #D2E3FC;\n",
              "    }\n",
              "\n",
              "    [theme=dark] .colab-df-convert:hover {\n",
              "      background-color: #434B5C;\n",
              "      box-shadow: 0px 1px 3px 1px rgba(0, 0, 0, 0.15);\n",
              "      filter: drop-shadow(0px 1px 2px rgba(0, 0, 0, 0.3));\n",
              "      fill: #FFFFFF;\n",
              "    }\n",
              "  </style>\n",
              "\n",
              "      <script>\n",
              "        const buttonEl =\n",
              "          document.querySelector('#df-e7d5a50c-dc58-487f-86dc-fceac9a97608 button.colab-df-convert');\n",
              "        buttonEl.style.display =\n",
              "          google.colab.kernel.accessAllowed ? 'block' : 'none';\n",
              "\n",
              "        async function convertToInteractive(key) {\n",
              "          const element = document.querySelector('#df-e7d5a50c-dc58-487f-86dc-fceac9a97608');\n",
              "          const dataTable =\n",
              "            await google.colab.kernel.invokeFunction('convertToInteractive',\n",
              "                                                     [key], {});\n",
              "          if (!dataTable) return;\n",
              "\n",
              "          const docLinkHtml = 'Like what you see? Visit the ' +\n",
              "            '<a target=\"_blank\" href=https://colab.research.google.com/notebooks/data_table.ipynb>data table notebook</a>'\n",
              "            + ' to learn more about interactive tables.';\n",
              "          element.innerHTML = '';\n",
              "          dataTable['output_type'] = 'display_data';\n",
              "          await google.colab.output.renderOutput(dataTable, element);\n",
              "          const docLink = document.createElement('div');\n",
              "          docLink.innerHTML = docLinkHtml;\n",
              "          element.appendChild(docLink);\n",
              "        }\n",
              "      </script>\n",
              "    </div>\n",
              "  </div>\n",
              "  "
            ]
          },
          "metadata": {},
          "execution_count": 7
        }
      ],
      "source": [
        "##Picking Features(in columns) to be considered for analysis. \n",
        "#MAIN FEATURE CONSIDERED FOR ANALYSIS- Race, Sex, Borough and Age wrt offence type\n",
        "Offences=df[['arrest_key','age_group','perp_sex','pd_desc','perp_race','arrest_boro']]\n",
        "Offences"
      ]
    },
    {
      "cell_type": "code",
      "execution_count": null,
      "metadata": {
        "colab": {
          "base_uri": "https://localhost:8080/",
          "height": 510
        },
        "id": "Ve9sXp8SNGGx",
        "outputId": "05f3d4d7-f548-48d1-c6b0-081c74234c05"
      },
      "outputs": [
        {
          "output_type": "stream",
          "name": "stderr",
          "text": [
            "/usr/local/lib/python3.7/dist-packages/pandas/core/frame.py:5047: SettingWithCopyWarning: \n",
            "A value is trying to be set on a copy of a slice from a DataFrame\n",
            "\n",
            "See the caveats in the documentation: https://pandas.pydata.org/pandas-docs/stable/user_guide/indexing.html#returning-a-view-versus-a-copy\n",
            "  errors=errors,\n"
          ]
        },
        {
          "output_type": "execute_result",
          "data": {
            "text/plain": [
              "     Arrest ID Age Group Gender                    Offence Type  \\\n",
              "0    238552639     18-24      M            TRESPASS 2, CRIMINAL   \n",
              "1    238682242     25-44      M  ROBBERY,OPEN AREA UNCLASSIFIED   \n",
              "2    238723993     25-44      M                          RAPE 3   \n",
              "3    238821533     45-64      M                          (null)   \n",
              "4    239029586     25-44      M                          (null)   \n",
              "..         ...       ...    ...                             ...   \n",
              "995  239678172     25-44      F        ASSAULT 2,1,UNCLASSIFIED   \n",
              "996  239220231     45-64      M                       ASSAULT 3   \n",
              "997  241650053     25-44      M  CRIMINAL MISCHIEF 4TH, GRAFFIT   \n",
              "998  240305373     25-44      M                       ASSAULT 3   \n",
              "999  239457828     18-24      M   BURGLARY,UNCLASSIFIED,UNKNOWN   \n",
              "\n",
              "               Race Borough  \n",
              "0             BLACK       K  \n",
              "1             BLACK       K  \n",
              "2             WHITE       K  \n",
              "3    WHITE HISPANIC       Q  \n",
              "4    WHITE HISPANIC       Q  \n",
              "..              ...     ...  \n",
              "995           BLACK       K  \n",
              "996           WHITE       K  \n",
              "997  WHITE HISPANIC       K  \n",
              "998  WHITE HISPANIC       K  \n",
              "999  WHITE HISPANIC       M  \n",
              "\n",
              "[1000 rows x 6 columns]"
            ],
            "text/html": [
              "\n",
              "  <div id=\"df-6a93b491-cdca-470c-aaa5-c326a416324d\">\n",
              "    <div class=\"colab-df-container\">\n",
              "      <div>\n",
              "<style scoped>\n",
              "    .dataframe tbody tr th:only-of-type {\n",
              "        vertical-align: middle;\n",
              "    }\n",
              "\n",
              "    .dataframe tbody tr th {\n",
              "        vertical-align: top;\n",
              "    }\n",
              "\n",
              "    .dataframe thead th {\n",
              "        text-align: right;\n",
              "    }\n",
              "</style>\n",
              "<table border=\"1\" class=\"dataframe\">\n",
              "  <thead>\n",
              "    <tr style=\"text-align: right;\">\n",
              "      <th></th>\n",
              "      <th>Arrest ID</th>\n",
              "      <th>Age Group</th>\n",
              "      <th>Gender</th>\n",
              "      <th>Offence Type</th>\n",
              "      <th>Race</th>\n",
              "      <th>Borough</th>\n",
              "    </tr>\n",
              "  </thead>\n",
              "  <tbody>\n",
              "    <tr>\n",
              "      <th>0</th>\n",
              "      <td>238552639</td>\n",
              "      <td>18-24</td>\n",
              "      <td>M</td>\n",
              "      <td>TRESPASS 2, CRIMINAL</td>\n",
              "      <td>BLACK</td>\n",
              "      <td>K</td>\n",
              "    </tr>\n",
              "    <tr>\n",
              "      <th>1</th>\n",
              "      <td>238682242</td>\n",
              "      <td>25-44</td>\n",
              "      <td>M</td>\n",
              "      <td>ROBBERY,OPEN AREA UNCLASSIFIED</td>\n",
              "      <td>BLACK</td>\n",
              "      <td>K</td>\n",
              "    </tr>\n",
              "    <tr>\n",
              "      <th>2</th>\n",
              "      <td>238723993</td>\n",
              "      <td>25-44</td>\n",
              "      <td>M</td>\n",
              "      <td>RAPE 3</td>\n",
              "      <td>WHITE</td>\n",
              "      <td>K</td>\n",
              "    </tr>\n",
              "    <tr>\n",
              "      <th>3</th>\n",
              "      <td>238821533</td>\n",
              "      <td>45-64</td>\n",
              "      <td>M</td>\n",
              "      <td>(null)</td>\n",
              "      <td>WHITE HISPANIC</td>\n",
              "      <td>Q</td>\n",
              "    </tr>\n",
              "    <tr>\n",
              "      <th>4</th>\n",
              "      <td>239029586</td>\n",
              "      <td>25-44</td>\n",
              "      <td>M</td>\n",
              "      <td>(null)</td>\n",
              "      <td>WHITE HISPANIC</td>\n",
              "      <td>Q</td>\n",
              "    </tr>\n",
              "    <tr>\n",
              "      <th>...</th>\n",
              "      <td>...</td>\n",
              "      <td>...</td>\n",
              "      <td>...</td>\n",
              "      <td>...</td>\n",
              "      <td>...</td>\n",
              "      <td>...</td>\n",
              "    </tr>\n",
              "    <tr>\n",
              "      <th>995</th>\n",
              "      <td>239678172</td>\n",
              "      <td>25-44</td>\n",
              "      <td>F</td>\n",
              "      <td>ASSAULT 2,1,UNCLASSIFIED</td>\n",
              "      <td>BLACK</td>\n",
              "      <td>K</td>\n",
              "    </tr>\n",
              "    <tr>\n",
              "      <th>996</th>\n",
              "      <td>239220231</td>\n",
              "      <td>45-64</td>\n",
              "      <td>M</td>\n",
              "      <td>ASSAULT 3</td>\n",
              "      <td>WHITE</td>\n",
              "      <td>K</td>\n",
              "    </tr>\n",
              "    <tr>\n",
              "      <th>997</th>\n",
              "      <td>241650053</td>\n",
              "      <td>25-44</td>\n",
              "      <td>M</td>\n",
              "      <td>CRIMINAL MISCHIEF 4TH, GRAFFIT</td>\n",
              "      <td>WHITE HISPANIC</td>\n",
              "      <td>K</td>\n",
              "    </tr>\n",
              "    <tr>\n",
              "      <th>998</th>\n",
              "      <td>240305373</td>\n",
              "      <td>25-44</td>\n",
              "      <td>M</td>\n",
              "      <td>ASSAULT 3</td>\n",
              "      <td>WHITE HISPANIC</td>\n",
              "      <td>K</td>\n",
              "    </tr>\n",
              "    <tr>\n",
              "      <th>999</th>\n",
              "      <td>239457828</td>\n",
              "      <td>18-24</td>\n",
              "      <td>M</td>\n",
              "      <td>BURGLARY,UNCLASSIFIED,UNKNOWN</td>\n",
              "      <td>WHITE HISPANIC</td>\n",
              "      <td>M</td>\n",
              "    </tr>\n",
              "  </tbody>\n",
              "</table>\n",
              "<p>1000 rows × 6 columns</p>\n",
              "</div>\n",
              "      <button class=\"colab-df-convert\" onclick=\"convertToInteractive('df-6a93b491-cdca-470c-aaa5-c326a416324d')\"\n",
              "              title=\"Convert this dataframe to an interactive table.\"\n",
              "              style=\"display:none;\">\n",
              "        \n",
              "  <svg xmlns=\"http://www.w3.org/2000/svg\" height=\"24px\"viewBox=\"0 0 24 24\"\n",
              "       width=\"24px\">\n",
              "    <path d=\"M0 0h24v24H0V0z\" fill=\"none\"/>\n",
              "    <path d=\"M18.56 5.44l.94 2.06.94-2.06 2.06-.94-2.06-.94-.94-2.06-.94 2.06-2.06.94zm-11 1L8.5 8.5l.94-2.06 2.06-.94-2.06-.94L8.5 2.5l-.94 2.06-2.06.94zm10 10l.94 2.06.94-2.06 2.06-.94-2.06-.94-.94-2.06-.94 2.06-2.06.94z\"/><path d=\"M17.41 7.96l-1.37-1.37c-.4-.4-.92-.59-1.43-.59-.52 0-1.04.2-1.43.59L10.3 9.45l-7.72 7.72c-.78.78-.78 2.05 0 2.83L4 21.41c.39.39.9.59 1.41.59.51 0 1.02-.2 1.41-.59l7.78-7.78 2.81-2.81c.8-.78.8-2.07 0-2.86zM5.41 20L4 18.59l7.72-7.72 1.47 1.35L5.41 20z\"/>\n",
              "  </svg>\n",
              "      </button>\n",
              "      \n",
              "  <style>\n",
              "    .colab-df-container {\n",
              "      display:flex;\n",
              "      flex-wrap:wrap;\n",
              "      gap: 12px;\n",
              "    }\n",
              "\n",
              "    .colab-df-convert {\n",
              "      background-color: #E8F0FE;\n",
              "      border: none;\n",
              "      border-radius: 50%;\n",
              "      cursor: pointer;\n",
              "      display: none;\n",
              "      fill: #1967D2;\n",
              "      height: 32px;\n",
              "      padding: 0 0 0 0;\n",
              "      width: 32px;\n",
              "    }\n",
              "\n",
              "    .colab-df-convert:hover {\n",
              "      background-color: #E2EBFA;\n",
              "      box-shadow: 0px 1px 2px rgba(60, 64, 67, 0.3), 0px 1px 3px 1px rgba(60, 64, 67, 0.15);\n",
              "      fill: #174EA6;\n",
              "    }\n",
              "\n",
              "    [theme=dark] .colab-df-convert {\n",
              "      background-color: #3B4455;\n",
              "      fill: #D2E3FC;\n",
              "    }\n",
              "\n",
              "    [theme=dark] .colab-df-convert:hover {\n",
              "      background-color: #434B5C;\n",
              "      box-shadow: 0px 1px 3px 1px rgba(0, 0, 0, 0.15);\n",
              "      filter: drop-shadow(0px 1px 2px rgba(0, 0, 0, 0.3));\n",
              "      fill: #FFFFFF;\n",
              "    }\n",
              "  </style>\n",
              "\n",
              "      <script>\n",
              "        const buttonEl =\n",
              "          document.querySelector('#df-6a93b491-cdca-470c-aaa5-c326a416324d button.colab-df-convert');\n",
              "        buttonEl.style.display =\n",
              "          google.colab.kernel.accessAllowed ? 'block' : 'none';\n",
              "\n",
              "        async function convertToInteractive(key) {\n",
              "          const element = document.querySelector('#df-6a93b491-cdca-470c-aaa5-c326a416324d');\n",
              "          const dataTable =\n",
              "            await google.colab.kernel.invokeFunction('convertToInteractive',\n",
              "                                                     [key], {});\n",
              "          if (!dataTable) return;\n",
              "\n",
              "          const docLinkHtml = 'Like what you see? Visit the ' +\n",
              "            '<a target=\"_blank\" href=https://colab.research.google.com/notebooks/data_table.ipynb>data table notebook</a>'\n",
              "            + ' to learn more about interactive tables.';\n",
              "          element.innerHTML = '';\n",
              "          dataTable['output_type'] = 'display_data';\n",
              "          await google.colab.output.renderOutput(dataTable, element);\n",
              "          const docLink = document.createElement('div');\n",
              "          docLink.innerHTML = docLinkHtml;\n",
              "          element.appendChild(docLink);\n",
              "        }\n",
              "      </script>\n",
              "    </div>\n",
              "  </div>\n",
              "  "
            ]
          },
          "metadata": {},
          "execution_count": 8
        }
      ],
      "source": [
        "#Renaming the columns\n",
        "Offences.rename(columns= {'arrest_key': 'Arrest ID','age_group': 'Age Group','perp_sex': 'Gender', 'pd_desc': 'Offence Type', 'perp_race': 'Race','arrest_boro':'Borough'}, inplace=True)\n",
        "Offences"
      ]
    },
    {
      "cell_type": "code",
      "execution_count": null,
      "metadata": {
        "colab": {
          "base_uri": "https://localhost:8080/"
        },
        "id": "favbvQ63OY9I",
        "outputId": "5925d4b5-08df-46b6-f594-343bea0ec54d"
      },
      "outputs": [
        {
          "output_type": "execute_result",
          "data": {
            "text/plain": [
              "Arrest ID       0\n",
              "Age Group       0\n",
              "Gender          0\n",
              "Offence Type    0\n",
              "Race            0\n",
              "Borough         0\n",
              "dtype: int64"
            ]
          },
          "metadata": {},
          "execution_count": 9
        }
      ],
      "source": [
        "#Null  value check. Missing value\n",
        "Offences.isnull().sum()"
      ]
    },
    {
      "cell_type": "code",
      "execution_count": null,
      "metadata": {
        "colab": {
          "base_uri": "https://localhost:8080/",
          "height": 424
        },
        "id": "s0IP4GuUPLLt",
        "outputId": "eb2e9cad-16b9-449d-df22-574c2ba1d409"
      },
      "outputs": [
        {
          "output_type": "execute_result",
          "data": {
            "text/plain": [
              "     Arrest ID Age Group Gender                    Offence Type  \\\n",
              "0    238552639     18-24      M            TRESPASS 2, CRIMINAL   \n",
              "1    238682242     25-44      M  ROBBERY,OPEN AREA UNCLASSIFIED   \n",
              "2    238723993     25-44      M                          RAPE 3   \n",
              "3    238821533     45-64      M                 Unknown Offence   \n",
              "4    239029586     25-44      M                 Unknown Offence   \n",
              "..         ...       ...    ...                             ...   \n",
              "995  239678172     25-44      F        ASSAULT 2,1,UNCLASSIFIED   \n",
              "996  239220231     45-64      M                       ASSAULT 3   \n",
              "997  241650053     25-44      M  CRIMINAL MISCHIEF 4TH, GRAFFIT   \n",
              "998  240305373     25-44      M                       ASSAULT 3   \n",
              "999  239457828     18-24      M   BURGLARY,UNCLASSIFIED,UNKNOWN   \n",
              "\n",
              "               Race Borough  \n",
              "0             BLACK       K  \n",
              "1             BLACK       K  \n",
              "2             WHITE       K  \n",
              "3    WHITE HISPANIC       Q  \n",
              "4    WHITE HISPANIC       Q  \n",
              "..              ...     ...  \n",
              "995           BLACK       K  \n",
              "996           WHITE       K  \n",
              "997  WHITE HISPANIC       K  \n",
              "998  WHITE HISPANIC       K  \n",
              "999  WHITE HISPANIC       M  \n",
              "\n",
              "[1000 rows x 6 columns]"
            ],
            "text/html": [
              "\n",
              "  <div id=\"df-a0a5f3a2-ad83-4441-ba1d-d187aa6c0a03\">\n",
              "    <div class=\"colab-df-container\">\n",
              "      <div>\n",
              "<style scoped>\n",
              "    .dataframe tbody tr th:only-of-type {\n",
              "        vertical-align: middle;\n",
              "    }\n",
              "\n",
              "    .dataframe tbody tr th {\n",
              "        vertical-align: top;\n",
              "    }\n",
              "\n",
              "    .dataframe thead th {\n",
              "        text-align: right;\n",
              "    }\n",
              "</style>\n",
              "<table border=\"1\" class=\"dataframe\">\n",
              "  <thead>\n",
              "    <tr style=\"text-align: right;\">\n",
              "      <th></th>\n",
              "      <th>Arrest ID</th>\n",
              "      <th>Age Group</th>\n",
              "      <th>Gender</th>\n",
              "      <th>Offence Type</th>\n",
              "      <th>Race</th>\n",
              "      <th>Borough</th>\n",
              "    </tr>\n",
              "  </thead>\n",
              "  <tbody>\n",
              "    <tr>\n",
              "      <th>0</th>\n",
              "      <td>238552639</td>\n",
              "      <td>18-24</td>\n",
              "      <td>M</td>\n",
              "      <td>TRESPASS 2, CRIMINAL</td>\n",
              "      <td>BLACK</td>\n",
              "      <td>K</td>\n",
              "    </tr>\n",
              "    <tr>\n",
              "      <th>1</th>\n",
              "      <td>238682242</td>\n",
              "      <td>25-44</td>\n",
              "      <td>M</td>\n",
              "      <td>ROBBERY,OPEN AREA UNCLASSIFIED</td>\n",
              "      <td>BLACK</td>\n",
              "      <td>K</td>\n",
              "    </tr>\n",
              "    <tr>\n",
              "      <th>2</th>\n",
              "      <td>238723993</td>\n",
              "      <td>25-44</td>\n",
              "      <td>M</td>\n",
              "      <td>RAPE 3</td>\n",
              "      <td>WHITE</td>\n",
              "      <td>K</td>\n",
              "    </tr>\n",
              "    <tr>\n",
              "      <th>3</th>\n",
              "      <td>238821533</td>\n",
              "      <td>45-64</td>\n",
              "      <td>M</td>\n",
              "      <td>Unknown Offence</td>\n",
              "      <td>WHITE HISPANIC</td>\n",
              "      <td>Q</td>\n",
              "    </tr>\n",
              "    <tr>\n",
              "      <th>4</th>\n",
              "      <td>239029586</td>\n",
              "      <td>25-44</td>\n",
              "      <td>M</td>\n",
              "      <td>Unknown Offence</td>\n",
              "      <td>WHITE HISPANIC</td>\n",
              "      <td>Q</td>\n",
              "    </tr>\n",
              "    <tr>\n",
              "      <th>...</th>\n",
              "      <td>...</td>\n",
              "      <td>...</td>\n",
              "      <td>...</td>\n",
              "      <td>...</td>\n",
              "      <td>...</td>\n",
              "      <td>...</td>\n",
              "    </tr>\n",
              "    <tr>\n",
              "      <th>995</th>\n",
              "      <td>239678172</td>\n",
              "      <td>25-44</td>\n",
              "      <td>F</td>\n",
              "      <td>ASSAULT 2,1,UNCLASSIFIED</td>\n",
              "      <td>BLACK</td>\n",
              "      <td>K</td>\n",
              "    </tr>\n",
              "    <tr>\n",
              "      <th>996</th>\n",
              "      <td>239220231</td>\n",
              "      <td>45-64</td>\n",
              "      <td>M</td>\n",
              "      <td>ASSAULT 3</td>\n",
              "      <td>WHITE</td>\n",
              "      <td>K</td>\n",
              "    </tr>\n",
              "    <tr>\n",
              "      <th>997</th>\n",
              "      <td>241650053</td>\n",
              "      <td>25-44</td>\n",
              "      <td>M</td>\n",
              "      <td>CRIMINAL MISCHIEF 4TH, GRAFFIT</td>\n",
              "      <td>WHITE HISPANIC</td>\n",
              "      <td>K</td>\n",
              "    </tr>\n",
              "    <tr>\n",
              "      <th>998</th>\n",
              "      <td>240305373</td>\n",
              "      <td>25-44</td>\n",
              "      <td>M</td>\n",
              "      <td>ASSAULT 3</td>\n",
              "      <td>WHITE HISPANIC</td>\n",
              "      <td>K</td>\n",
              "    </tr>\n",
              "    <tr>\n",
              "      <th>999</th>\n",
              "      <td>239457828</td>\n",
              "      <td>18-24</td>\n",
              "      <td>M</td>\n",
              "      <td>BURGLARY,UNCLASSIFIED,UNKNOWN</td>\n",
              "      <td>WHITE HISPANIC</td>\n",
              "      <td>M</td>\n",
              "    </tr>\n",
              "  </tbody>\n",
              "</table>\n",
              "<p>1000 rows × 6 columns</p>\n",
              "</div>\n",
              "      <button class=\"colab-df-convert\" onclick=\"convertToInteractive('df-a0a5f3a2-ad83-4441-ba1d-d187aa6c0a03')\"\n",
              "              title=\"Convert this dataframe to an interactive table.\"\n",
              "              style=\"display:none;\">\n",
              "        \n",
              "  <svg xmlns=\"http://www.w3.org/2000/svg\" height=\"24px\"viewBox=\"0 0 24 24\"\n",
              "       width=\"24px\">\n",
              "    <path d=\"M0 0h24v24H0V0z\" fill=\"none\"/>\n",
              "    <path d=\"M18.56 5.44l.94 2.06.94-2.06 2.06-.94-2.06-.94-.94-2.06-.94 2.06-2.06.94zm-11 1L8.5 8.5l.94-2.06 2.06-.94-2.06-.94L8.5 2.5l-.94 2.06-2.06.94zm10 10l.94 2.06.94-2.06 2.06-.94-2.06-.94-.94-2.06-.94 2.06-2.06.94z\"/><path d=\"M17.41 7.96l-1.37-1.37c-.4-.4-.92-.59-1.43-.59-.52 0-1.04.2-1.43.59L10.3 9.45l-7.72 7.72c-.78.78-.78 2.05 0 2.83L4 21.41c.39.39.9.59 1.41.59.51 0 1.02-.2 1.41-.59l7.78-7.78 2.81-2.81c.8-.78.8-2.07 0-2.86zM5.41 20L4 18.59l7.72-7.72 1.47 1.35L5.41 20z\"/>\n",
              "  </svg>\n",
              "      </button>\n",
              "      \n",
              "  <style>\n",
              "    .colab-df-container {\n",
              "      display:flex;\n",
              "      flex-wrap:wrap;\n",
              "      gap: 12px;\n",
              "    }\n",
              "\n",
              "    .colab-df-convert {\n",
              "      background-color: #E8F0FE;\n",
              "      border: none;\n",
              "      border-radius: 50%;\n",
              "      cursor: pointer;\n",
              "      display: none;\n",
              "      fill: #1967D2;\n",
              "      height: 32px;\n",
              "      padding: 0 0 0 0;\n",
              "      width: 32px;\n",
              "    }\n",
              "\n",
              "    .colab-df-convert:hover {\n",
              "      background-color: #E2EBFA;\n",
              "      box-shadow: 0px 1px 2px rgba(60, 64, 67, 0.3), 0px 1px 3px 1px rgba(60, 64, 67, 0.15);\n",
              "      fill: #174EA6;\n",
              "    }\n",
              "\n",
              "    [theme=dark] .colab-df-convert {\n",
              "      background-color: #3B4455;\n",
              "      fill: #D2E3FC;\n",
              "    }\n",
              "\n",
              "    [theme=dark] .colab-df-convert:hover {\n",
              "      background-color: #434B5C;\n",
              "      box-shadow: 0px 1px 3px 1px rgba(0, 0, 0, 0.15);\n",
              "      filter: drop-shadow(0px 1px 2px rgba(0, 0, 0, 0.3));\n",
              "      fill: #FFFFFF;\n",
              "    }\n",
              "  </style>\n",
              "\n",
              "      <script>\n",
              "        const buttonEl =\n",
              "          document.querySelector('#df-a0a5f3a2-ad83-4441-ba1d-d187aa6c0a03 button.colab-df-convert');\n",
              "        buttonEl.style.display =\n",
              "          google.colab.kernel.accessAllowed ? 'block' : 'none';\n",
              "\n",
              "        async function convertToInteractive(key) {\n",
              "          const element = document.querySelector('#df-a0a5f3a2-ad83-4441-ba1d-d187aa6c0a03');\n",
              "          const dataTable =\n",
              "            await google.colab.kernel.invokeFunction('convertToInteractive',\n",
              "                                                     [key], {});\n",
              "          if (!dataTable) return;\n",
              "\n",
              "          const docLinkHtml = 'Like what you see? Visit the ' +\n",
              "            '<a target=\"_blank\" href=https://colab.research.google.com/notebooks/data_table.ipynb>data table notebook</a>'\n",
              "            + ' to learn more about interactive tables.';\n",
              "          element.innerHTML = '';\n",
              "          dataTable['output_type'] = 'display_data';\n",
              "          await google.colab.output.renderOutput(dataTable, element);\n",
              "          const docLink = document.createElement('div');\n",
              "          docLink.innerHTML = docLinkHtml;\n",
              "          element.appendChild(docLink);\n",
              "        }\n",
              "      </script>\n",
              "    </div>\n",
              "  </div>\n",
              "  "
            ]
          },
          "metadata": {},
          "execution_count": 10
        }
      ],
      "source": [
        "#Replace null as Unknown Offence\n",
        "Offences.replace(to_replace ='(null)',\n",
        "                value ='Unknown Offence')"
      ]
    },
    {
      "cell_type": "code",
      "execution_count": null,
      "metadata": {
        "colab": {
          "base_uri": "https://localhost:8080/"
        },
        "id": "pWMEo-nyQwCa",
        "outputId": "405fff89-97a8-42f5-b52e-4b8aac59b837"
      },
      "outputs": [
        {
          "output_type": "execute_result",
          "data": {
            "text/plain": [
              "Race                            Offence Type                             \n",
              "AMERICAN INDIAN/ALASKAN NATIVE  ASSAULT 2,1,UNCLASSIFIED                      2\n",
              "                                LARCENY,GRAND FROM OPEN AREAS, UNATTENDED     1\n",
              "                                LARCENY,PETIT FROM OPEN AREAS,                1\n",
              "                                STOLEN PROPERTY 3,POSSESSION                  1\n",
              "ASIAN / PACIFIC ISLANDER        AGGRAVATED CRIMINAL CONTEMPT                  1\n",
              "                                                                             ..\n",
              "WHITE HISPANIC                  TRAFFIC,UNCLASSIFIED MISDEMEAN               10\n",
              "                                U.S. CODE UNCLASSIFIED                        1\n",
              "                                WEAPONS POSSESSION 1 & 2                      6\n",
              "                                WEAPONS POSSESSION 3                          2\n",
              "                                WEAPONS, POSSESSION, ETC                      1\n",
              "Name: Offence Type, Length: 228, dtype: int64"
            ]
          },
          "metadata": {},
          "execution_count": 11
        }
      ],
      "source": [
        "#Group offenses into Race and Offence Type\n",
        "Race_Based= Offences.groupby(['Race', 'Offence Type'])['Offence Type'].count()\n",
        "Race_Based"
      ]
    },
    {
      "cell_type": "code",
      "source": [
        "Race_Based_1= Offences.groupby(['Race'])['Offence Type'].count().sort_values(ascending=False)\n",
        "Race_Based_1"
      ],
      "metadata": {
        "colab": {
          "base_uri": "https://localhost:8080/"
        },
        "id": "wgiBgvGSmNVx",
        "outputId": "20de21c4-07bc-4210-85d1-45948191fa1c"
      },
      "execution_count": null,
      "outputs": [
        {
          "output_type": "execute_result",
          "data": {
            "text/plain": [
              "Race\n",
              "BLACK                             515\n",
              "WHITE HISPANIC                    237\n",
              "WHITE                             115\n",
              "BLACK HISPANIC                     80\n",
              "ASIAN / PACIFIC ISLANDER           44\n",
              "AMERICAN INDIAN/ALASKAN NATIVE      5\n",
              "UNKNOWN                             4\n",
              "Name: Offence Type, dtype: int64"
            ]
          },
          "metadata": {},
          "execution_count": 12
        }
      ]
    },
    {
      "cell_type": "code",
      "execution_count": null,
      "metadata": {
        "colab": {
          "base_uri": "https://localhost:8080/",
          "height": 700
        },
        "id": "6eIv_4KBPurR",
        "outputId": "d02e68b6-cb39-4a28-fefc-8ba84fb7038a"
      },
      "outputs": [
        {
          "output_type": "execute_result",
          "data": {
            "text/plain": [
              "<matplotlib.axes._subplots.AxesSubplot at 0x7fa6e226b050>"
            ]
          },
          "metadata": {},
          "execution_count": 13
        },
        {
          "output_type": "display_data",
          "data": {
            "text/plain": [
              "<Figure size 1008x576 with 1 Axes>"
            ],
            "image/png": "[encoded data removed]"
          },
          "metadata": {
            "needs_background": "light"
          }
        }
      ],
      "source": [
        "#Visualization of Offences over Race- Highest Offence mapped to be committed by Blacks and lowest mapped to be commited by American Indian/Alaskan Native\n",
        "Race_Based_1.plot(kind='bar', figsize=(14,8), title = 'Number of Offences by different races')"
      ]
    },
    {
      "cell_type": "code",
      "source": [
        "#Gender Based analysis against Offences\n",
        "Gender_based= Offences.groupby(['Gender', 'Offence Type'])['Offence Type'].count().sort_values(ascending=False)\n",
        "Gender_based"
      ],
      "metadata": {
        "colab": {
          "base_uri": "https://localhost:8080/"
        },
        "id": "tzzm4yHkLJf1",
        "outputId": "eea75a3e-3bae-4903-8210-2d74c73bc9f2"
      },
      "execution_count": null,
      "outputs": [
        {
          "output_type": "execute_result",
          "data": {
            "text/plain": [
              "Gender  Offence Type                  \n",
              "M       ASSAULT 3                         107\n",
              "        LARCENY,PETIT FROM OPEN AREAS,     66\n",
              "        ROBBERY,OPEN AREA UNCLASSIFIED     50\n",
              "        ASSAULT 2,1,UNCLASSIFIED           39\n",
              "        FORGERY,ETC.-MISD.                 34\n",
              "                                         ... \n",
              "        RAPE 2                              1\n",
              "        COURSE OF SEXUAL CONDUCT AGAIN      1\n",
              "        CONTROLLED SUBSTANCE, INTENT T      1\n",
              "F       FUGITIVE/OTHER STATES               1\n",
              "        LEAVING SCENE-ACCIDENT-PERSONA      1\n",
              "Name: Offence Type, Length: 124, dtype: int64"
            ]
          },
          "metadata": {},
          "execution_count": 14
        }
      ]
    },
    {
      "cell_type": "code",
      "source": [
        "Gender_Based_1= Offences.groupby(['Gender'])['Offence Type'].count().sort_values(ascending=False)\n",
        "Gender_Based_1"
      ],
      "metadata": {
        "colab": {
          "base_uri": "https://localhost:8080/"
        },
        "id": "Mu2_mmrlBZMg",
        "outputId": "13d29491-9675-4a41-95a6-c34e17786f04"
      },
      "execution_count": null,
      "outputs": [
        {
          "output_type": "execute_result",
          "data": {
            "text/plain": [
              "Gender\n",
              "M    828\n",
              "F    172\n",
              "Name: Offence Type, dtype: int64"
            ]
          },
          "metadata": {},
          "execution_count": 15
        }
      ]
    },
    {
      "cell_type": "code",
      "source": [
        "#Visualization of Offences over Gender- Highest Offence(83%) committed by Male and lowest(17%) Females\n",
        "Gender_Based_1.plot(kind='pie', y='Gender', autopct='%1.0f%%')"
      ],
      "metadata": {
        "colab": {
          "base_uri": "https://localhost:8080/",
          "height": 265
        },
        "id": "KuPY04PMBhfE",
        "outputId": "8c530a5f-51a8-466f-95f8-7e0616f7df37"
      },
      "execution_count": null,
      "outputs": [
        {
          "output_type": "execute_result",
          "data": {
            "text/plain": [
              "<matplotlib.axes._subplots.AxesSubplot at 0x7fa6da726190>"
            ]
          },
          "metadata": {},
          "execution_count": 16
        },
        {
          "output_type": "display_data",
          "data": {
            "text/plain": [
              "<Figure size 432x288 with 1 Axes>"
            ],
            "image/png": "[encoded data removed]"
          },
          "metadata": {}
        }
      ]
    },
    {
      "cell_type": "code",
      "source": [
        "#Looking into Age group and Gender to offences\n",
        "Age_Gender= Offences.groupby(['Age Group','Gender', 'Offence Type'])['Offence Type'].count()\n",
        "Age_Gender"
      ],
      "metadata": {
        "colab": {
          "base_uri": "https://localhost:8080/"
        },
        "id": "1zZdGVF0DbfP",
        "outputId": "2bb802cd-26db-4a0e-9b2b-477cfc261e06"
      },
      "execution_count": null,
      "outputs": [
        {
          "output_type": "execute_result",
          "data": {
            "text/plain": [
              "Age Group  Gender  Offence Type                  \n",
              "18-24      F       (null)                            1\n",
              "                   AGGRAVATED CRIMINAL CONTEMPT      1\n",
              "                   AGGRAVATED HARASSMENT 2           2\n",
              "                   ASSAULT 2,1,UNCLASSIFIED          2\n",
              "                   ASSAULT 3                         7\n",
              "                                                    ..\n",
              "<18        M       MURDER,UNCLASSIFIED               1\n",
              "                   OBSTR BREATH/CIRCUL               1\n",
              "                   ROBBERY,OPEN AREA UNCLASSIFIED    2\n",
              "                   SEXUAL ABUSE 3,2                  1\n",
              "                   STOLEN PROPERTY-MOTOR VEH 2ND,    1\n",
              "Name: Offence Type, Length: 265, dtype: int64"
            ]
          },
          "metadata": {},
          "execution_count": 17
        }
      ]
    },
    {
      "cell_type": "code",
      "source": [
        "Age_Gender_1= Offences.groupby(['Age Group','Gender'])['Offence Type'].count()\n",
        "Age_Gender_1"
      ],
      "metadata": {
        "colab": {
          "base_uri": "https://localhost:8080/"
        },
        "id": "PbQIipgnDS5m",
        "outputId": "bad67be5-7110-45b6-aec7-b03afcd372f6"
      },
      "execution_count": null,
      "outputs": [
        {
          "output_type": "execute_result",
          "data": {
            "text/plain": [
              "Age Group  Gender\n",
              "18-24      F          36\n",
              "           M         149\n",
              "25-44      F         100\n",
              "           M         464\n",
              "45-64      F          30\n",
              "           M         181\n",
              "65+        F           3\n",
              "           M          11\n",
              "<18        F           3\n",
              "           M          23\n",
              "Name: Offence Type, dtype: int64"
            ]
          },
          "metadata": {},
          "execution_count": 18
        }
      ]
    },
    {
      "cell_type": "code",
      "source": [
        "#Analysis points to highest crime in Male and Female is committed in the age group of 25-44 and lowestr os 65>\n",
        "Age_Gender_1.plot(kind='bar', figsize=(14,8), title = 'Number of Offences by Age Group and Gender', color = ['g', 'y'])\n"
      ],
      "metadata": {
        "colab": {
          "base_uri": "https://localhost:8080/",
          "height": 571
        },
        "id": "iVwTA1VbHcYQ",
        "outputId": "43da4d61-cfd8-48d6-921d-ebfa14fa3c0d"
      },
      "execution_count": null,
      "outputs": [
        {
          "output_type": "execute_result",
          "data": {
            "text/plain": [
              "<matplotlib.axes._subplots.AxesSubplot at 0x7fa6da241fd0>"
            ]
          },
          "metadata": {},
          "execution_count": 19
        },
        {
          "output_type": "display_data",
          "data": {
            "text/plain": [
              "<Figure size 1008x576 with 1 Axes>"
            ],
            "image/png": "[encoded data removed]"
          },
          "metadata": {
            "needs_background": "light"
          }
        }
      ]
    },
    {
      "cell_type": "code",
      "source": [
        "#Looking into offences\n",
        "Offence_Type= Offences.groupby(['Offence Type'])['Offence Type'].count().sort_values(ascending=False)\n",
        "Offence_Type.head(20)"
      ],
      "metadata": {
        "colab": {
          "base_uri": "https://localhost:8080/"
        },
        "id": "E-CP2noYG_Nh",
        "outputId": "b3390e86-7bb0-4751-ce18-545175ab5d69"
      },
      "execution_count": null,
      "outputs": [
        {
          "output_type": "execute_result",
          "data": {
            "text/plain": [
              "Offence Type\n",
              "ASSAULT 3                                    137\n",
              "LARCENY,PETIT FROM OPEN AREAS,                87\n",
              "ASSAULT 2,1,UNCLASSIFIED                      62\n",
              "ROBBERY,OPEN AREA UNCLASSIFIED                53\n",
              "PUBLIC ADMINISTRATION,UNCLASSI                39\n",
              "FORGERY,ETC.-MISD.                            38\n",
              "LARCENY,GRAND FROM OPEN AREAS, UNATTENDED     35\n",
              "TRAFFIC,UNCLASSIFIED MISDEMEAN                33\n",
              "BURGLARY,UNCLASSIFIED,UNKNOWN                 32\n",
              "MENACING,UNCLASSIFIED                         27\n",
              "WEAPONS POSSESSION 1 & 2                      24\n",
              "CONTROLLED SUBSTANCE, POSSESSI                24\n",
              "CRIMINAL MIS 2 & 3                            22\n",
              "(null)                                        21\n",
              "STRANGULATION 1ST                             21\n",
              "CONTEMPT,CRIMINAL                             20\n",
              "INTOXICATED DRIVING,ALCOHOL                   20\n",
              "CRIMINAL MISCHIEF,UNCLASSIFIED 4              18\n",
              "FORGERY,ETC.,UNCLASSIFIED-FELO                17\n",
              "CHILD, ENDANGERING WELFARE                    15\n",
              "Name: Offence Type, dtype: int64"
            ]
          },
          "metadata": {},
          "execution_count": 20
        }
      ]
    },
    {
      "cell_type": "code",
      "source": [
        "#Analysis points to highest Offence is Assault\n",
        "Offence_Type.head(20).plot(kind='barh', figsize=(14,8))"
      ],
      "metadata": {
        "colab": {
          "base_uri": "https://localhost:8080/",
          "height": 500
        },
        "id": "xG6qxH1bLPOf",
        "outputId": "369fd802-a345-44f2-cb62-4bd469283824"
      },
      "execution_count": null,
      "outputs": [
        {
          "output_type": "execute_result",
          "data": {
            "text/plain": [
              "<matplotlib.axes._subplots.AxesSubplot at 0x7fa6d9ebad10>"
            ]
          },
          "metadata": {},
          "execution_count": 29
        },
        {
          "output_type": "display_data",
          "data": {
            "text/plain": [
              "<Figure size 1008x576 with 1 Axes>"
            ],
            "image/png": "[encoded data removed]"
          },
          "metadata": {
            "needs_background": "light"
          }
        }
      ]
    },
    {
      "cell_type": "code",
      "source": [
        "#Analysis points to Lowest Offence as mentioned below\n",
        "Offence_Type.tail(30).plot(kind='barh', figsize=(14,8))"
      ],
      "metadata": {
        "colab": {
          "base_uri": "https://localhost:8080/",
          "height": 500
        },
        "id": "VS0rVqyvNqLZ",
        "outputId": "8d444555-96e3-4b5f-cb2a-10387970c4a9"
      },
      "execution_count": null,
      "outputs": [
        {
          "output_type": "execute_result",
          "data": {
            "text/plain": [
              "<matplotlib.axes._subplots.AxesSubplot at 0x7fa6d9d5d710>"
            ]
          },
          "metadata": {},
          "execution_count": 30
        },
        {
          "output_type": "display_data",
          "data": {
            "text/plain": [
              "<Figure size 1008x576 with 1 Axes>"
            ],
            "image/png": "[encoded data removed]"
          },
          "metadata": {
            "needs_background": "light"
          }
        }
      ]
    },
    {
      "cell_type": "code",
      "source": [
        "#Borough Based analysis against Offences\n",
        "Borough_based= Offences.groupby(['Borough'])['Offence Type'].count().sort_values(ascending=False)\n",
        "Borough_based"
      ],
      "metadata": {
        "colab": {
          "base_uri": "https://localhost:8080/"
        },
        "id": "fuWFfMEUOYNT",
        "outputId": "83b50071-206e-4e2d-b722-2c8257ecab6b"
      },
      "execution_count": null,
      "outputs": [
        {
          "output_type": "execute_result",
          "data": {
            "text/plain": [
              "Borough\n",
              "K    304\n",
              "Q    224\n",
              "M    216\n",
              "B    197\n",
              "S     59\n",
              "Name: Offence Type, dtype: int64"
            ]
          },
          "metadata": {},
          "execution_count": 23
        }
      ]
    },
    {
      "cell_type": "code",
      "source": [
        "#Visualization of Offences over Borough- Highest Offence(30%) is committed in Brooklyn(30%) and lowest(6%) in Staten Island. This depends on the population per capita\n",
        "Borough_based.plot(kind='pie', y='Borough', autopct='%1.0f%%')"
      ],
      "metadata": {
        "colab": {
          "base_uri": "https://localhost:8080/",
          "height": 265
        },
        "id": "tWDqk1giOn19",
        "outputId": "7630f596-2c96-4251-9746-3b49720be006"
      },
      "execution_count": null,
      "outputs": [
        {
          "output_type": "execute_result",
          "data": {
            "text/plain": [
              "<matplotlib.axes._subplots.AxesSubplot at 0x7fa6da048250>"
            ]
          },
          "metadata": {},
          "execution_count": 24
        },
        {
          "output_type": "display_data",
          "data": {
            "text/plain": [
              "<Figure size 432x288 with 1 Axes>"
            ],
            "image/png": "[encoded data removed]"
          },
          "metadata": {}
        }
      ]
    },
    {
      "cell_type": "code",
      "source": [
        "#Borough Based analysis against Offences\n",
        "Borough_Gender_based= Offences.groupby(['Borough', 'Gender'])['Offence Type'].count()\n",
        "Borough_Gender_based"
      ],
      "metadata": {
        "colab": {
          "base_uri": "https://localhost:8080/"
        },
        "id": "y9wh6UtwQANC",
        "outputId": "c0f81c68-b5db-4b6a-e934-e113a062852a"
      },
      "execution_count": null,
      "outputs": [
        {
          "output_type": "execute_result",
          "data": {
            "text/plain": [
              "Borough  Gender\n",
              "B        F          31\n",
              "         M         166\n",
              "K        F          47\n",
              "         M         257\n",
              "M        F          40\n",
              "         M         176\n",
              "Q        F          41\n",
              "         M         183\n",
              "S        F          13\n",
              "         M          46\n",
              "Name: Offence Type, dtype: int64"
            ]
          },
          "metadata": {},
          "execution_count": 25
        }
      ]
    },
    {
      "cell_type": "code",
      "source": [
        "#Analysis points to highest crime done by Male & female in Brooklyn and lowest crime done by Male and Female in Staten Island.However, the population density is also higher and lower in the mentioned boroughs respectively\n",
        "Borough_Gender_based.plot(kind='bar', figsize=(14,8), title = 'Borough-Gender Vs Offence', color = ['g', 'y'])"
      ],
      "metadata": {
        "colab": {
          "base_uri": "https://localhost:8080/",
          "height": 551
        },
        "id": "WZhterBEQ2CH",
        "outputId": "01530d41-3519-4216-a40b-50fc13d943b0"
      },
      "execution_count": null,
      "outputs": [
        {
          "output_type": "execute_result",
          "data": {
            "text/plain": [
              "<matplotlib.axes._subplots.AxesSubplot at 0x7fa6d9f31d90>"
            ]
          },
          "metadata": {},
          "execution_count": 26
        },
        {
          "output_type": "display_data",
          "data": {
            "text/plain": [
              "<Figure size 1008x576 with 1 Axes>"
            ],
            "image/png": "[encoded data removed]"
          },
          "metadata": {
            "needs_background": "light"
          }
        }
      ]
    },
    {
      "cell_type": "markdown",
      "source": [
        "ANALYSIS ON MOST COMMITTED OFFENCE BY WHICH RACE, GENDER AND AGE GROUP"
      ],
      "metadata": {
        "id": "CFkCeuYgTn6c"
      }
    },
    {
      "cell_type": "code",
      "source": [
        "#Looking into offences\n",
        "Offence_Type_2= Offences.groupby(['Offence Type','Race','Age Group','Gender'])['Offence Type'].count().sort_values(ascending=False)\n",
        "Offence_Type_2.head(5)"
      ],
      "metadata": {
        "colab": {
          "base_uri": "https://localhost:8080/"
        },
        "id": "ZCtqDuJZVztu",
        "outputId": "08e4caa2-26f3-40a4-c846-354185682c92"
      },
      "execution_count": null,
      "outputs": [
        {
          "output_type": "execute_result",
          "data": {
            "text/plain": [
              "Offence Type                    Race   Age Group  Gender\n",
              "ASSAULT 3                       BLACK  25-44      M         33\n",
              "ROBBERY,OPEN AREA UNCLASSIFIED  BLACK  25-44      M         19\n",
              "FORGERY,ETC.-MISD.              BLACK  25-44      M         15\n",
              "LARCENY,PETIT FROM OPEN AREAS,  BLACK  25-44      M         15\n",
              "ASSAULT 2,1,UNCLASSIFIED        BLACK  25-44      F         13\n",
              "Name: Offence Type, dtype: int64"
            ]
          },
          "metadata": {},
          "execution_count": 27
        }
      ]
    },
    {
      "cell_type": "markdown",
      "source": [
        "Analysis shows Highest Crime Assault 3 committed by Male black within age group 25-44 and the highest female crime is Unclassified Assault 1,2 committed by Black within age group of 25-44 "
      ],
      "metadata": {
        "id": "HQfZc4ycY5Bw"
      }
    },
    {
      "cell_type": "code",
      "source": [
        "Offence_Type_2.head(5).plot(kind='barh', figsize=(14,8), color = ['g', 'y','b'])"
      ],
      "metadata": {
        "colab": {
          "base_uri": "https://localhost:8080/",
          "height": 500
        },
        "id": "0r8Iu3wqWx3z",
        "outputId": "bcd5a633-bb57-4105-84e6-0638b925c1fd"
      },
      "execution_count": null,
      "outputs": [
        {
          "output_type": "execute_result",
          "data": {
            "text/plain": [
              "<matplotlib.axes._subplots.AxesSubplot at 0x7fa6da19ee50>"
            ]
          },
          "metadata": {},
          "execution_count": 31
        },
        {
          "output_type": "display_data",
          "data": {
            "text/plain": [
              "<Figure size 1008x576 with 1 Axes>"
            ],
            "image/png": "[encoded data removed]"
          },
          "metadata": {
            "needs_background": "light"
          }
        }
      ]
    },
    {
      "cell_type": "markdown",
      "source": [
        "As per the above analysis\n",
        "-Most offences are committed by Black Race\n",
        "-Age group with highest offences are 25-44\n",
        "-Brooklyn borough has shown most offences, however this is not mapped against population but only wrt overall offences count\n",
        "-Top 5 offences are done by Men of Black race within 25-44 age group"
      ],
      "metadata": {
        "id": "cz_nwH0E2jAm"
      }
    }
  ],
  "metadata": {
    "colab": {
      "collapsed_sections": [],
      "name": "CAPSTONE PROJECT - NYPD ARREST.ipynb",
      "provenance": [],
      "authorship_tag": "ABX9TyMZWPzB+FXUHjB8PvijqnOg",
      "include_colab_link": true
    },
    "kernelspec": {
      "display_name": "Python 3",
      "name": "python3"
    },
    "language_info": {
      "name": "python"
    }
  },
  "nbformat": 4,
  "nbformat_minor": 0
}